{
 "cells": [
  {
   "cell_type": "markdown",
   "metadata": {
    "id": "IBb6nSAY5T4I"
   },
   "source": [
    "# Machine Learning\n",
    "## Compulsory task"
   ]
  },
  {
   "cell_type": "markdown",
   "metadata": {
    "id": "N02Qu9_f1N45"
   },
   "source": [
    "1. For each of the following examples describe at least one possible input and\n",
    "output. Justify your answers:  \n",
    "* 1.1 A self-driving car\n",
    "* 1.2 Netflix recommendation system\n",
    "* 1.3 Signature recognition\n",
    "* 1.4 Medical diagnosis\n"
   ]
  },
  {
   "cell_type": "markdown",
   "metadata": {
    "id": "-8aBqprP3ypo"
   },
   "source": [
    "1. Answer here\n",
    "\n",
    "|      | Input(s)            | Output    \n",
    "| ---- |                     |\n",
    "| 1.1  |Traffic Density      |Optimal Route\n",
    "| 1.2  |User-inputted ratings|Recommendation score\n",
    "| 1.3  |Image of signature   |Similarity score\n",
    "| 1.4  |Patient demographics |Disease severity"
   ]
  },
  {
   "cell_type": "markdown",
   "metadata": {},
   "source": [
    "1.1\n",
    "We could aim to create an algorithm that receives data on traffic conditions and outputs optimal routes for the self-driving car accordingly.\n",
    "\n",
    "1.2\n",
    "Netflix can ask users to input ratings on shows or movies, and from this input, a recommendation score on other content based on similar features such as genre and personnel could be outputted.\n",
    "\n",
    "1.3\n",
    "For signature recognition, images of many signatures can be inputted generate similarity scores between signatures, which could help provide an automatic means of identifying signatures. A high similarity score would indicate a higher likelihood of being the same person between two signatures.\n",
    "\n",
    "1.4\n",
    "Inputs for medical diagnoses could include demographic data including age, gender and ethnicity, all factors which might affect the severity of diseases, which is an output that can be predicted using an algorithm."
   ]
  },
  {
   "cell_type": "markdown",
   "metadata": {
    "id": "l_I2f4C85yNF"
   },
   "source": [
    "\n",
    "2. For each of the following case studies, determine whether it is appropriate to utilise regression or classification machine learning algorithms. Justify your answers:\n",
    "* 2.1 Classifying emails as promotion or social based on their content and metadata.\n",
    "* 2.2 Forecasting the stock price of a company based on historical data and market trends.\n",
    "* 2.3 Sorting images of animals into different species based on their visual features.\n",
    "* 2.4 Predicting the likelihood of a patient having a particular disease based on medical history and diagnostic test results."
   ]
  },
  {
   "cell_type": "markdown",
   "metadata": {
    "id": "WgMUsqQr6qFU"
   },
   "source": [
    "2. Answer here\n",
    "* 2.1\n",
    "Classification, because the process requires categorization rather than determining the association of continuous data.\n",
    "* 2.2\n",
    "Because the data is continous and the output is not categorical, regression is more useful for making the necessary predictions.\n",
    "* 2.3\n",
    "Species are akin to categories, so classification would be the more appropriate method.\n",
    "* 2.4\n",
    "Because the output is a prediction of likelihood, which is likely to be a continuous figure, regression is the appropriate approach."
   ]
  },
  {
   "cell_type": "markdown",
   "metadata": {
    "id": "b6f8UETG64hH"
   },
   "source": [
    "3. For each of the following real-world problems, determine whether it is appropriate to utilise a supervised or unsupervised machine learning algorithm. Justify your answers:\n",
    "* 3.1 Detecting anomalies in a manufacturing process using sensor data without prior knowledge of specific anomaly patterns.\n",
    "* 3.2 Predicting customer lifetime value based on historical transaction data and customer demographics.\n",
    "* 3.3 Segmenting customer demographics based on their purchase history, browsing behaviour, and preferences.\n",
    "* 3.4 Analysing social media posts to categorise them into different themes.\n"
   ]
  },
  {
   "cell_type": "markdown",
   "metadata": {
    "id": "W6dTYBvd675O"
   },
   "source": [
    "3. Answer here\n",
    "* 3.1\n",
    "Not having prior knowledge of specific anomaly patterns would suggest that supervised learrning is not an option, so unsupervised learning would be appropriate.\n",
    "\n",
    "* 3.2\n",
    "The use of historical transactional data means that supervised learning is necessary.\n",
    "\n",
    "* 3.3\n",
    "The use of prior data such as purchase history entails the use of supervised learning.\n",
    "\n",
    "* 3.4\n",
    "Without using prior data, and by analysing and categorising data by finding patterns on its own, it appears that unsupervised learning is appropriate.\n"
   ]
  },
  {
   "cell_type": "markdown",
   "metadata": {
    "id": "bqsun96o64xe"
   },
   "source": [
    "4.\n",
    "For each of the following real-world problems, determine whether it is appropriate to utilise semi-supervised machine learning algorithms. Justify your answers:\n",
    "* 4.1 Predicting fraudulent financial transactions using a dataset where most transactions are labelled as fraudulent or legitimate.\n",
    "* 4.2 Analysing customer satisfaction surveys where only a small portion of the data is labelled with satisfaction ratings.\n",
    "* 4.3 Identifying spam emails in a dataset where the majority of emails are labelled.\n",
    "* 4.4 Predicting the probability of default for credit card applicants based on their complete financial and credit-related information.\n"
   ]
  },
  {
   "cell_type": "markdown",
   "metadata": {
    "id": "aTWugZ6q68GF"
   },
   "source": [
    "4. Answer here\n",
    "* 4.1\n",
    "The use of a larger labelled data set indicates that semi-supervised learning is not appropriate in this case.\n",
    "\n",
    "* 4.2\n",
    "The use of a small labelled data set indicates that a semi-supervised learning approach is appropriate.\n",
    "\n",
    "* 4.3\n",
    "The fact that most of the emails in the dataset are labelled suggests that semi-supervised learning is not appropriate.\n",
    "\n",
    "* 4.4\n",
    "The use of complete data implies that all of the data is labelled, suggesting that semi-supervised learning is not appropriate.\n"
   ]
  }
 ],
 "metadata": {
  "colab": {
   "provenance": []
  },
  "kernelspec": {
   "display_name": "Python 3 (ipykernel)",
   "language": "python",
   "name": "python3"
  },
  "language_info": {
   "codemirror_mode": {
    "name": "ipython",
    "version": 3
   },
   "file_extension": ".py",
   "mimetype": "text/x-python",
   "name": "python",
   "nbconvert_exporter": "python",
   "pygments_lexer": "ipython3",
   "version": "3.11.5"
  }
 },
 "nbformat": 4,
 "nbformat_minor": 1
}
